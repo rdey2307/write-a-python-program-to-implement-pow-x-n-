{
 "cells": [
  {
   "cell_type": "code",
   "execution_count": 1,
   "id": "8ec9bb6d",
   "metadata": {},
   "outputs": [],
   "source": [
    "class Power:\n",
    "    def __init__(self):\n",
    "        print('now input your numbers')\n",
    "    def power(self,x,n):\n",
    "        self.x=x\n",
    "        self.n=n\n",
    "        return x**n"
   ]
  },
  {
   "cell_type": "code",
   "execution_count": 2,
   "id": "0ede796d",
   "metadata": {},
   "outputs": [
    {
     "name": "stdout",
     "output_type": "stream",
     "text": [
      "now input your numbers\n"
     ]
    }
   ],
   "source": [
    "digits=Power()"
   ]
  },
  {
   "cell_type": "code",
   "execution_count": 3,
   "id": "98d09d4d",
   "metadata": {},
   "outputs": [
    {
     "data": {
      "text/plain": [
       "1000000"
      ]
     },
     "execution_count": 3,
     "metadata": {},
     "output_type": "execute_result"
    }
   ],
   "source": [
    "digits.power(100,3)"
   ]
  },
  {
   "cell_type": "code",
   "execution_count": null,
   "id": "45f25f5a",
   "metadata": {},
   "outputs": [],
   "source": []
  }
 ],
 "metadata": {
  "kernelspec": {
   "display_name": "Python 3 (ipykernel)",
   "language": "python",
   "name": "python3"
  },
  "language_info": {
   "codemirror_mode": {
    "name": "ipython",
    "version": 3
   },
   "file_extension": ".py",
   "mimetype": "text/x-python",
   "name": "python",
   "nbconvert_exporter": "python",
   "pygments_lexer": "ipython3",
   "version": "3.9.7"
  }
 },
 "nbformat": 4,
 "nbformat_minor": 5
}
